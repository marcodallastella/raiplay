{
 "cells": [
  {
   "cell_type": "code",
   "execution_count": null,
   "metadata": {},
   "outputs": [],
   "source": [
    "from playwright.async_api import async_playwright\n",
    "import asyncio\n",
    "from bs4 import BeautifulSoup\n",
    "import pandas as pd\n",
    "from time import sleep\n",
    "import re"
   ]
  },
  {
   "cell_type": "code",
   "execution_count": null,
   "metadata": {},
   "outputs": [],
   "source": [
    "urls = {\n",
    "  'https://www.raiplay.it/genere/Fiction---Tutti-97cca670-a42a-498c-97fd-4fdb6b7f3398.html' : 'Fiction',\n",
    "  'https://www.raiplay.it/genere/Film---Tutti-377b40d5-e723-4bfa-bc64-3e44c0d5b6e3.html' : 'Film',\n",
    "  'https://www.raiplay.it/genere/Documentari---Tutti-a0e22b91-cb25-4789-8e82-9a976ce29138.html' : 'Documentari',\n",
    "  'https://www.raiplay.it/raccolta/Antologie-Teche-in-esclusiva-14bc0b54-1dd1-4b5c-97b0-68775aa8e79c.html' : 'Antologie',\n",
    "  'https://www.raiplay.it/genere/Teche-Rai---Tutti-e91c17fd-b21d-4ed3-bb14-1fec5a89f5ad.html' : 'Teche RAI',\n",
    "  'https://www.raiplay.it/genere/Serie-TV---Tutti-e0b70800-f090-4e49-8fcb-c28094afbe79.html': 'Serie internazionali',\n",
    "  'https://www.raiplay.it/genere/Musica---Tutti-9f034f64-afb6-409f-ba18-f61182c3270f.html' : 'Musica',\n",
    "  'https://www.raiplay.it/genere/Film-per-ragazzi-6e567ae1-4d10-4894-8002-00f79fea4b21.html' : 'Film per ragazzi',\n",
    "  'https://www.raiplay.it/genere/Bambini---Tutti-eda7ecb7-8ff6-419e-9c03-87d02e3fa454.html' : 'Bambini',\n",
    "  'https://www.raiplay.it/genere/Programmi---Tutti-20269973-8d0d-4cc4-9f82-66bd9fa2b03a.html': 'Programmi'\n",
    "}"
   ]
  },
  {
   "cell_type": "code",
   "execution_count": null,
   "metadata": {},
   "outputs": [],
   "source": [
    "# List to store movie names and genres\n",
    "movies = []\n",
    "\n",
    "async def scrape_movies(url, genre, page):\n",
    "    # Go to the URL\n",
    "    await page.goto(url)\n",
    "    print(f\"Going to {url}\")\n",
    "    \n",
    "    # Get the HTML content of the page\n",
    "    html_content = await page.content()\n",
    "    soup = BeautifulSoup(html_content, 'html.parser')\n",
    "    \n",
    "    # Find all card items with movie names\n",
    "    cards = soup.find_all('a', class_='card-item__link')\n",
    "    \n",
    "    for card in cards:\n",
    "        movie_name = card['aria-label'].replace('Maggiori informazioni su ', '')\n",
    "        movies.append((movie_name, genre))\n",
    "    await page.wait_for_timeout(2000)"
   ]
  },
  {
   "cell_type": "code",
   "execution_count": null,
   "metadata": {},
   "outputs": [],
   "source": [
    "# Start Playwright\n",
    "playwright = await async_playwright().start()\n",
    "\n",
    "# Launch the browser\n",
    "browser = await playwright.chromium.launch(headless=False)\n",
    "\n",
    "# Create a new browser page\n",
    "page = await browser.new_page()\n",
    "\n",
    "# Loop through URLs and scrape movies\n",
    "for url, genre in urls.items():\n",
    "    await scrape_movies(url, genre, page)\n",
    "\n",
    "# Close the browser\n",
    "await browser.close()\n",
    "\n",
    "# Print the scraped movie names and genres\n",
    "for movie, genre in movies:\n",
    "    print(f\"Movie: {movie}, Genre: {genre}\")"
   ]
  },
  {
   "cell_type": "code",
   "execution_count": null,
   "metadata": {},
   "outputs": [],
   "source": [
    "df = pd.DataFrame(movies, columns=['Movie Name', 'Genre'])\n",
    "df.head()\n"
   ]
  },
  {
   "cell_type": "code",
   "execution_count": null,
   "metadata": {},
   "outputs": [],
   "source": [
    "df['Genre'].value_counts()"
   ]
  },
  {
   "cell_type": "code",
   "execution_count": null,
   "metadata": {},
   "outputs": [],
   "source": [
    "df.to_csv('catalogo.csv', index=False, encoding='UTF-8-sig')"
   ]
  }
 ],
 "metadata": {
  "kernelspec": {
   "display_name": "Python 3",
   "language": "python",
   "name": "python3"
  },
  "language_info": {
   "codemirror_mode": {
    "name": "ipython",
    "version": 3
   },
   "file_extension": ".py",
   "mimetype": "text/x-python",
   "name": "python",
   "nbconvert_exporter": "python",
   "pygments_lexer": "ipython3",
   "version": "3.10.11"
  }
 },
 "nbformat": 4,
 "nbformat_minor": 2
}
